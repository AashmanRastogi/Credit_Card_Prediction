{
 "cells": [
  {
   "cell_type": "markdown",
   "id": "1dd0773a",
   "metadata": {},
   "source": [
    "# Loading all relevant libraries and functions"
   ]
  },
  {
   "cell_type": "code",
   "execution_count": 66,
   "id": "1e073d6e",
   "metadata": {},
   "outputs": [],
   "source": [
    "import numpy as np\n",
    "import pandas as pd\n",
    "import seaborn as sns\n",
    "from matplotlib import pyplot as plt\n",
    "from matplotlib.colors import ListedColormap\n",
    "\n",
    "from sklearn import preprocessing\n",
    "from sklearn.preprocessing import MinMaxScaler\n",
    "from sklearn.preprocessing import LabelEncoder\n",
    "from sklearn.preprocessing import StandardScaler\n",
    "\n",
    "from sklearn.model_selection import GridSearchCV\n",
    "from sklearn.model_selection import cross_val_score\n",
    "from sklearn.model_selection import train_test_split\n",
    "from sklearn.model_selection import RandomizedSearchCV\n",
    "\n",
    "from sklearn import tree\n",
    "from sklearn import metrics\n",
    "from sklearn.metrics import accuracy_score\n",
    "from sklearn.metrics import confusion_matrix, ConfusionMatrixDisplay\n",
    "\n",
    "from itertools import combinations\n",
    "\n",
    "from sklearn.feature_selection import VarianceThreshold\n",
    "from sklearn.feature_selection import SelectKBest, f_classif\n",
    "\n",
    "# Models\n",
    "\n",
    "import xgboost as xgb\n",
    "from sklearn.naive_bayes import GaussianNB\n",
    "from sklearn.tree import DecisionTreeClassifier\n",
    "from sklearn.neighbors import KNeighborsClassifier\n",
    "from sklearn.ensemble import RandomForestClassifier\n",
    "from sklearn.linear_model import LogisticRegression\n",
    "\n",
    "from scipy.stats import randint\n",
    "from sklearn.datasets import make_classification\n",
    "from sklearn.utils.multiclass import unique_labels\n",
    "\n",
    "import warnings\n",
    "warnings.filterwarnings(\"ignore\")  # Ignore all warnings"
   ]
  },
  {
   "cell_type": "markdown",
   "id": "8bb2d633",
   "metadata": {},
   "source": [
    "##### Loading Data"
   ]
  },
  {
   "cell_type": "code",
   "execution_count": 67,
   "id": "07065da6",
   "metadata": {},
   "outputs": [],
   "source": [
    "url = '/Users/aashmanrastogi/Desktop/Math 42/FINAL PROJECT/archive/application_record.csv'\n",
    "url1 = '/Users/aashmanrastogi/Desktop/Math 42/FINAL PROJECT/archive/credit_record.csv'\n",
    "app = pd.read_csv(url)\n",
    "cred = pd.read_csv(url1)\n"
   ]
  },
  {
   "cell_type": "markdown",
   "id": "f820d577",
   "metadata": {},
   "source": [
    "###### Viewing rows for both datasets"
   ]
  },
  {
   "cell_type": "code",
   "execution_count": 68,
   "id": "3c227dae",
   "metadata": {},
   "outputs": [
    {
     "data": {
      "text/html": [
       "<div>\n",
       "<style scoped>\n",
       "    .dataframe tbody tr th:only-of-type {\n",
       "        vertical-align: middle;\n",
       "    }\n",
       "\n",
       "    .dataframe tbody tr th {\n",
       "        vertical-align: top;\n",
       "    }\n",
       "\n",
       "    .dataframe thead th {\n",
       "        text-align: right;\n",
       "    }\n",
       "</style>\n",
       "<table border=\"1\" class=\"dataframe\">\n",
       "  <thead>\n",
       "    <tr style=\"text-align: right;\">\n",
       "      <th></th>\n",
       "      <th>ID</th>\n",
       "      <th>CODE_GENDER</th>\n",
       "      <th>FLAG_OWN_CAR</th>\n",
       "      <th>FLAG_OWN_REALTY</th>\n",
       "      <th>CNT_CHILDREN</th>\n",
       "      <th>AMT_INCOME_TOTAL</th>\n",
       "      <th>NAME_INCOME_TYPE</th>\n",
       "      <th>NAME_EDUCATION_TYPE</th>\n",
       "      <th>NAME_FAMILY_STATUS</th>\n",
       "      <th>NAME_HOUSING_TYPE</th>\n",
       "      <th>DAYS_BIRTH</th>\n",
       "      <th>DAYS_EMPLOYED</th>\n",
       "      <th>FLAG_MOBIL</th>\n",
       "      <th>FLAG_WORK_PHONE</th>\n",
       "      <th>FLAG_PHONE</th>\n",
       "      <th>FLAG_EMAIL</th>\n",
       "      <th>OCCUPATION_TYPE</th>\n",
       "      <th>CNT_FAM_MEMBERS</th>\n",
       "    </tr>\n",
       "  </thead>\n",
       "  <tbody>\n",
       "    <tr>\n",
       "      <th>0</th>\n",
       "      <td>5008804</td>\n",
       "      <td>M</td>\n",
       "      <td>Y</td>\n",
       "      <td>Y</td>\n",
       "      <td>0</td>\n",
       "      <td>427500.0</td>\n",
       "      <td>Working</td>\n",
       "      <td>Higher education</td>\n",
       "      <td>Civil marriage</td>\n",
       "      <td>Rented apartment</td>\n",
       "      <td>-12005</td>\n",
       "      <td>-4542</td>\n",
       "      <td>1</td>\n",
       "      <td>1</td>\n",
       "      <td>0</td>\n",
       "      <td>0</td>\n",
       "      <td>NaN</td>\n",
       "      <td>2.0</td>\n",
       "    </tr>\n",
       "    <tr>\n",
       "      <th>1</th>\n",
       "      <td>5008805</td>\n",
       "      <td>M</td>\n",
       "      <td>Y</td>\n",
       "      <td>Y</td>\n",
       "      <td>0</td>\n",
       "      <td>427500.0</td>\n",
       "      <td>Working</td>\n",
       "      <td>Higher education</td>\n",
       "      <td>Civil marriage</td>\n",
       "      <td>Rented apartment</td>\n",
       "      <td>-12005</td>\n",
       "      <td>-4542</td>\n",
       "      <td>1</td>\n",
       "      <td>1</td>\n",
       "      <td>0</td>\n",
       "      <td>0</td>\n",
       "      <td>NaN</td>\n",
       "      <td>2.0</td>\n",
       "    </tr>\n",
       "    <tr>\n",
       "      <th>2</th>\n",
       "      <td>5008806</td>\n",
       "      <td>M</td>\n",
       "      <td>Y</td>\n",
       "      <td>Y</td>\n",
       "      <td>0</td>\n",
       "      <td>112500.0</td>\n",
       "      <td>Working</td>\n",
       "      <td>Secondary / secondary special</td>\n",
       "      <td>Married</td>\n",
       "      <td>House / apartment</td>\n",
       "      <td>-21474</td>\n",
       "      <td>-1134</td>\n",
       "      <td>1</td>\n",
       "      <td>0</td>\n",
       "      <td>0</td>\n",
       "      <td>0</td>\n",
       "      <td>Security staff</td>\n",
       "      <td>2.0</td>\n",
       "    </tr>\n",
       "    <tr>\n",
       "      <th>3</th>\n",
       "      <td>5008808</td>\n",
       "      <td>F</td>\n",
       "      <td>N</td>\n",
       "      <td>Y</td>\n",
       "      <td>0</td>\n",
       "      <td>270000.0</td>\n",
       "      <td>Commercial associate</td>\n",
       "      <td>Secondary / secondary special</td>\n",
       "      <td>Single / not married</td>\n",
       "      <td>House / apartment</td>\n",
       "      <td>-19110</td>\n",
       "      <td>-3051</td>\n",
       "      <td>1</td>\n",
       "      <td>0</td>\n",
       "      <td>1</td>\n",
       "      <td>1</td>\n",
       "      <td>Sales staff</td>\n",
       "      <td>1.0</td>\n",
       "    </tr>\n",
       "    <tr>\n",
       "      <th>4</th>\n",
       "      <td>5008809</td>\n",
       "      <td>F</td>\n",
       "      <td>N</td>\n",
       "      <td>Y</td>\n",
       "      <td>0</td>\n",
       "      <td>270000.0</td>\n",
       "      <td>Commercial associate</td>\n",
       "      <td>Secondary / secondary special</td>\n",
       "      <td>Single / not married</td>\n",
       "      <td>House / apartment</td>\n",
       "      <td>-19110</td>\n",
       "      <td>-3051</td>\n",
       "      <td>1</td>\n",
       "      <td>0</td>\n",
       "      <td>1</td>\n",
       "      <td>1</td>\n",
       "      <td>Sales staff</td>\n",
       "      <td>1.0</td>\n",
       "    </tr>\n",
       "  </tbody>\n",
       "</table>\n",
       "</div>"
      ],
      "text/plain": [
       "        ID CODE_GENDER FLAG_OWN_CAR FLAG_OWN_REALTY  CNT_CHILDREN  \\\n",
       "0  5008804           M            Y               Y             0   \n",
       "1  5008805           M            Y               Y             0   \n",
       "2  5008806           M            Y               Y             0   \n",
       "3  5008808           F            N               Y             0   \n",
       "4  5008809           F            N               Y             0   \n",
       "\n",
       "   AMT_INCOME_TOTAL      NAME_INCOME_TYPE            NAME_EDUCATION_TYPE  \\\n",
       "0          427500.0               Working               Higher education   \n",
       "1          427500.0               Working               Higher education   \n",
       "2          112500.0               Working  Secondary / secondary special   \n",
       "3          270000.0  Commercial associate  Secondary / secondary special   \n",
       "4          270000.0  Commercial associate  Secondary / secondary special   \n",
       "\n",
       "     NAME_FAMILY_STATUS  NAME_HOUSING_TYPE  DAYS_BIRTH  DAYS_EMPLOYED  \\\n",
       "0        Civil marriage   Rented apartment      -12005          -4542   \n",
       "1        Civil marriage   Rented apartment      -12005          -4542   \n",
       "2               Married  House / apartment      -21474          -1134   \n",
       "3  Single / not married  House / apartment      -19110          -3051   \n",
       "4  Single / not married  House / apartment      -19110          -3051   \n",
       "\n",
       "   FLAG_MOBIL  FLAG_WORK_PHONE  FLAG_PHONE  FLAG_EMAIL OCCUPATION_TYPE  \\\n",
       "0           1                1           0           0             NaN   \n",
       "1           1                1           0           0             NaN   \n",
       "2           1                0           0           0  Security staff   \n",
       "3           1                0           1           1     Sales staff   \n",
       "4           1                0           1           1     Sales staff   \n",
       "\n",
       "   CNT_FAM_MEMBERS  \n",
       "0              2.0  \n",
       "1              2.0  \n",
       "2              2.0  \n",
       "3              1.0  \n",
       "4              1.0  "
      ]
     },
     "execution_count": 68,
     "metadata": {},
     "output_type": "execute_result"
    }
   ],
   "source": [
    "app.head()"
   ]
  },
  {
   "cell_type": "code",
   "execution_count": 69,
   "id": "c989136b",
   "metadata": {},
   "outputs": [
    {
     "data": {
      "text/html": [
       "<div>\n",
       "<style scoped>\n",
       "    .dataframe tbody tr th:only-of-type {\n",
       "        vertical-align: middle;\n",
       "    }\n",
       "\n",
       "    .dataframe tbody tr th {\n",
       "        vertical-align: top;\n",
       "    }\n",
       "\n",
       "    .dataframe thead th {\n",
       "        text-align: right;\n",
       "    }\n",
       "</style>\n",
       "<table border=\"1\" class=\"dataframe\">\n",
       "  <thead>\n",
       "    <tr style=\"text-align: right;\">\n",
       "      <th></th>\n",
       "      <th>ID</th>\n",
       "      <th>MONTHS_BALANCE</th>\n",
       "      <th>STATUS</th>\n",
       "    </tr>\n",
       "  </thead>\n",
       "  <tbody>\n",
       "    <tr>\n",
       "      <th>0</th>\n",
       "      <td>5001711</td>\n",
       "      <td>0</td>\n",
       "      <td>X</td>\n",
       "    </tr>\n",
       "    <tr>\n",
       "      <th>1</th>\n",
       "      <td>5001711</td>\n",
       "      <td>-1</td>\n",
       "      <td>0</td>\n",
       "    </tr>\n",
       "    <tr>\n",
       "      <th>2</th>\n",
       "      <td>5001711</td>\n",
       "      <td>-2</td>\n",
       "      <td>0</td>\n",
       "    </tr>\n",
       "    <tr>\n",
       "      <th>3</th>\n",
       "      <td>5001711</td>\n",
       "      <td>-3</td>\n",
       "      <td>0</td>\n",
       "    </tr>\n",
       "    <tr>\n",
       "      <th>4</th>\n",
       "      <td>5001712</td>\n",
       "      <td>0</td>\n",
       "      <td>C</td>\n",
       "    </tr>\n",
       "  </tbody>\n",
       "</table>\n",
       "</div>"
      ],
      "text/plain": [
       "        ID  MONTHS_BALANCE STATUS\n",
       "0  5001711               0      X\n",
       "1  5001711              -1      0\n",
       "2  5001711              -2      0\n",
       "3  5001711              -3      0\n",
       "4  5001712               0      C"
      ]
     },
     "execution_count": 69,
     "metadata": {},
     "output_type": "execute_result"
    }
   ],
   "source": [
    "cred.head()"
   ]
  },
  {
   "cell_type": "markdown",
   "id": "22180e14",
   "metadata": {},
   "source": [
    "###### Merging the datasets based on common column ( ID )"
   ]
  },
  {
   "cell_type": "code",
   "execution_count": 70,
   "id": "07a16071",
   "metadata": {},
   "outputs": [
    {
     "data": {
      "text/html": [
       "<div>\n",
       "<style scoped>\n",
       "    .dataframe tbody tr th:only-of-type {\n",
       "        vertical-align: middle;\n",
       "    }\n",
       "\n",
       "    .dataframe tbody tr th {\n",
       "        vertical-align: top;\n",
       "    }\n",
       "\n",
       "    .dataframe thead th {\n",
       "        text-align: right;\n",
       "    }\n",
       "</style>\n",
       "<table border=\"1\" class=\"dataframe\">\n",
       "  <thead>\n",
       "    <tr style=\"text-align: right;\">\n",
       "      <th></th>\n",
       "      <th>ID</th>\n",
       "      <th>MONTHS_BALANCE</th>\n",
       "      <th>STATUS</th>\n",
       "      <th>CODE_GENDER</th>\n",
       "      <th>FLAG_OWN_CAR</th>\n",
       "      <th>FLAG_OWN_REALTY</th>\n",
       "      <th>CNT_CHILDREN</th>\n",
       "      <th>AMT_INCOME_TOTAL</th>\n",
       "      <th>NAME_INCOME_TYPE</th>\n",
       "      <th>NAME_EDUCATION_TYPE</th>\n",
       "      <th>NAME_FAMILY_STATUS</th>\n",
       "      <th>NAME_HOUSING_TYPE</th>\n",
       "      <th>DAYS_BIRTH</th>\n",
       "      <th>DAYS_EMPLOYED</th>\n",
       "      <th>FLAG_MOBIL</th>\n",
       "      <th>FLAG_WORK_PHONE</th>\n",
       "      <th>FLAG_PHONE</th>\n",
       "      <th>FLAG_EMAIL</th>\n",
       "      <th>OCCUPATION_TYPE</th>\n",
       "      <th>CNT_FAM_MEMBERS</th>\n",
       "    </tr>\n",
       "  </thead>\n",
       "  <tbody>\n",
       "    <tr>\n",
       "      <th>0</th>\n",
       "      <td>5008804</td>\n",
       "      <td>0</td>\n",
       "      <td>C</td>\n",
       "      <td>M</td>\n",
       "      <td>Y</td>\n",
       "      <td>Y</td>\n",
       "      <td>0</td>\n",
       "      <td>427500.0</td>\n",
       "      <td>Working</td>\n",
       "      <td>Higher education</td>\n",
       "      <td>Civil marriage</td>\n",
       "      <td>Rented apartment</td>\n",
       "      <td>-12005</td>\n",
       "      <td>-4542</td>\n",
       "      <td>1</td>\n",
       "      <td>1</td>\n",
       "      <td>0</td>\n",
       "      <td>0</td>\n",
       "      <td>NaN</td>\n",
       "      <td>2.0</td>\n",
       "    </tr>\n",
       "    <tr>\n",
       "      <th>1</th>\n",
       "      <td>5008804</td>\n",
       "      <td>-1</td>\n",
       "      <td>C</td>\n",
       "      <td>M</td>\n",
       "      <td>Y</td>\n",
       "      <td>Y</td>\n",
       "      <td>0</td>\n",
       "      <td>427500.0</td>\n",
       "      <td>Working</td>\n",
       "      <td>Higher education</td>\n",
       "      <td>Civil marriage</td>\n",
       "      <td>Rented apartment</td>\n",
       "      <td>-12005</td>\n",
       "      <td>-4542</td>\n",
       "      <td>1</td>\n",
       "      <td>1</td>\n",
       "      <td>0</td>\n",
       "      <td>0</td>\n",
       "      <td>NaN</td>\n",
       "      <td>2.0</td>\n",
       "    </tr>\n",
       "    <tr>\n",
       "      <th>2</th>\n",
       "      <td>5008804</td>\n",
       "      <td>-2</td>\n",
       "      <td>C</td>\n",
       "      <td>M</td>\n",
       "      <td>Y</td>\n",
       "      <td>Y</td>\n",
       "      <td>0</td>\n",
       "      <td>427500.0</td>\n",
       "      <td>Working</td>\n",
       "      <td>Higher education</td>\n",
       "      <td>Civil marriage</td>\n",
       "      <td>Rented apartment</td>\n",
       "      <td>-12005</td>\n",
       "      <td>-4542</td>\n",
       "      <td>1</td>\n",
       "      <td>1</td>\n",
       "      <td>0</td>\n",
       "      <td>0</td>\n",
       "      <td>NaN</td>\n",
       "      <td>2.0</td>\n",
       "    </tr>\n",
       "    <tr>\n",
       "      <th>3</th>\n",
       "      <td>5008804</td>\n",
       "      <td>-3</td>\n",
       "      <td>C</td>\n",
       "      <td>M</td>\n",
       "      <td>Y</td>\n",
       "      <td>Y</td>\n",
       "      <td>0</td>\n",
       "      <td>427500.0</td>\n",
       "      <td>Working</td>\n",
       "      <td>Higher education</td>\n",
       "      <td>Civil marriage</td>\n",
       "      <td>Rented apartment</td>\n",
       "      <td>-12005</td>\n",
       "      <td>-4542</td>\n",
       "      <td>1</td>\n",
       "      <td>1</td>\n",
       "      <td>0</td>\n",
       "      <td>0</td>\n",
       "      <td>NaN</td>\n",
       "      <td>2.0</td>\n",
       "    </tr>\n",
       "    <tr>\n",
       "      <th>4</th>\n",
       "      <td>5008804</td>\n",
       "      <td>-4</td>\n",
       "      <td>C</td>\n",
       "      <td>M</td>\n",
       "      <td>Y</td>\n",
       "      <td>Y</td>\n",
       "      <td>0</td>\n",
       "      <td>427500.0</td>\n",
       "      <td>Working</td>\n",
       "      <td>Higher education</td>\n",
       "      <td>Civil marriage</td>\n",
       "      <td>Rented apartment</td>\n",
       "      <td>-12005</td>\n",
       "      <td>-4542</td>\n",
       "      <td>1</td>\n",
       "      <td>1</td>\n",
       "      <td>0</td>\n",
       "      <td>0</td>\n",
       "      <td>NaN</td>\n",
       "      <td>2.0</td>\n",
       "    </tr>\n",
       "  </tbody>\n",
       "</table>\n",
       "</div>"
      ],
      "text/plain": [
       "        ID  MONTHS_BALANCE STATUS CODE_GENDER FLAG_OWN_CAR FLAG_OWN_REALTY  \\\n",
       "0  5008804               0      C           M            Y               Y   \n",
       "1  5008804              -1      C           M            Y               Y   \n",
       "2  5008804              -2      C           M            Y               Y   \n",
       "3  5008804              -3      C           M            Y               Y   \n",
       "4  5008804              -4      C           M            Y               Y   \n",
       "\n",
       "   CNT_CHILDREN  AMT_INCOME_TOTAL NAME_INCOME_TYPE NAME_EDUCATION_TYPE  \\\n",
       "0             0          427500.0          Working    Higher education   \n",
       "1             0          427500.0          Working    Higher education   \n",
       "2             0          427500.0          Working    Higher education   \n",
       "3             0          427500.0          Working    Higher education   \n",
       "4             0          427500.0          Working    Higher education   \n",
       "\n",
       "  NAME_FAMILY_STATUS NAME_HOUSING_TYPE  DAYS_BIRTH  DAYS_EMPLOYED  FLAG_MOBIL  \\\n",
       "0     Civil marriage  Rented apartment      -12005          -4542           1   \n",
       "1     Civil marriage  Rented apartment      -12005          -4542           1   \n",
       "2     Civil marriage  Rented apartment      -12005          -4542           1   \n",
       "3     Civil marriage  Rented apartment      -12005          -4542           1   \n",
       "4     Civil marriage  Rented apartment      -12005          -4542           1   \n",
       "\n",
       "   FLAG_WORK_PHONE  FLAG_PHONE  FLAG_EMAIL OCCUPATION_TYPE  CNT_FAM_MEMBERS  \n",
       "0                1           0           0             NaN              2.0  \n",
       "1                1           0           0             NaN              2.0  \n",
       "2                1           0           0             NaN              2.0  \n",
       "3                1           0           0             NaN              2.0  \n",
       "4                1           0           0             NaN              2.0  "
      ]
     },
     "execution_count": 70,
     "metadata": {},
     "output_type": "execute_result"
    }
   ],
   "source": [
    "merge = pd.merge(cred,app,on = \"ID\" , how = \"inner\")\n",
    "merge.head()"
   ]
  },
  {
   "cell_type": "markdown",
   "id": "c50f1225",
   "metadata": {},
   "source": [
    "# Data Cleaning and Preparation"
   ]
  },
  {
   "cell_type": "code",
   "execution_count": 71,
   "id": "43fc08f3",
   "metadata": {},
   "outputs": [],
   "source": [
    "np.random.seed(1234)\n",
    "\n",
    "merge.rename(columns={'NAME_FAMILY_STATUS': 'IsMarried'}, inplace=True)\n",
    "train, test = train_test_split(merge, test_size=0.2)\n",
    "'''\n",
    "We first spilt our data into testing and training set. \n",
    "'''\n",
    "\n",
    "'''\n",
    "The function \"prep_data\" is designed to clean and transform the input dataset into a \n",
    "format suitable for training and evaluating machine learning models\n",
    "'''\n",
    "\n",
    "def prep_data(data):\n",
    "    \n",
    "    df = data.copy()\n",
    "    df = df.dropna()\n",
    "\n",
    "    le = LabelEncoder()\n",
    "    \n",
    "    df[\"CODE_GENDER\"] = le.fit_transform(df[\"CODE_GENDER\"])\n",
    "    df[\"FLAG_OWN_CAR\"] = le.fit_transform(df[\"FLAG_OWN_CAR\"])\n",
    "    df[\"FLAG_OWN_REALTY\"] = le.fit_transform(df[\"FLAG_OWN_REALTY\"])\n",
    "    \n",
    "    sentiment_mapping = {'X': 1, '0': 0, '1': 0, '2': 0, '3': 0, '4': 0, '5': 0, 'C': 1}\n",
    "    df['STATUS'] = df['STATUS'].map(sentiment_mapping)\n",
    "    \n",
    "    maps = {\n",
    "        'Academic degree': 4, \n",
    "        'Higher education': 4, \n",
    "        'Incomplete higher': 3, \n",
    "        'Secondary / secondary special': 2,\n",
    "        'Lower secondary': 1}\n",
    "    \n",
    "    df['NAME_EDUCATION_TYPE'] = df['NAME_EDUCATION_TYPE'].map(maps)\n",
    "\n",
    "    maps2 = {'Married': 1, \n",
    "             'Single / not married': 0, \n",
    "             'Civil marriage': 1, \n",
    "             'Separated': 0, \n",
    "             'Widow': 0}\n",
    "    \n",
    "    df['IsMarried'] = df['IsMarried'].map(maps2)\n",
    "    \n",
    "    maps3 = {'Working': 1, \n",
    "             'Commercial associate': 1, \n",
    "             'State servant': 1, \n",
    "             'Pensioner': 1, \n",
    "             'Student': 0}\n",
    "    \n",
    "    df['NAME_INCOME_TYPE'] = df['NAME_INCOME_TYPE'].map(maps3)\n",
    "    \n",
    "    x = df.drop([\"NAME_HOUSING_TYPE\", \"OCCUPATION_TYPE\", \"ID\",\"STATUS\"], axis=1)\n",
    "    y = df[\"STATUS\"]\n",
    "    \n",
    "    return x, y\n",
    "\n",
    "'''\n",
    "The function starts by creating a copy of the original dataset to avoid modifying the original data. This ensures \n",
    "that any changes made during data preparation are applied to the copied dataset.\n",
    "\n",
    "The function drops rows that contain NaN (missing) values. This step is important because many machine learning \n",
    "algorithms cannot handle missing data, and dropping rows with missing values is a common approach to \n",
    "handle this issue. By removing rows with NaN values, we ensure that the dataset is complete and ready for \n",
    "further processing.\n",
    "\n",
    "The function proceeds to transform categorical columns into numerical ones. This step is necessary because \n",
    "most machine learning algorithms require numerical input. \n",
    "There are two types of encoding used in this function:\n",
    "\n",
    "a. Label Encoding (Few Unique Values): For columns that have a small number of unique values, the function applies\n",
    "                                       label encoding. Label encoding assigns a unique numeric label to each \n",
    "                                       distinct category in the column. This transformation allows the algorithm \n",
    "                                       to understand the categorical data by representing it numerically.\n",
    "b. Custom Label Encoding (More Intuitive Meaning): For columns where the categorical values have a more intuitive \n",
    "                                        meaning or order, the function defines custom labels and maps them to the \n",
    "                                        corresponding categories. This ensures that the numerical representation \n",
    "                                        retains the semantic meaning of the original categorical values.\n",
    "                                        \n",
    "Finally, the function prepares the independent variables (features) and the dependent variable (predictor) to be \n",
    "used in the machine learning models. It removes any unnecessary columns that are not relevant to the prediction \n",
    "task. The independent variables are assigned to the variable \"x,\" while the dependent variable is assigned to the\n",
    "variable \"y.\"\n",
    "\n",
    "'''\n",
    "\n",
    "x_train, y_train = prep_data(train)     # get data into x_train and y_train from training set\n",
    "x_test,y_test = prep_data(test)         # get data into x_test and y_test from testing set"
   ]
  },
  {
   "cell_type": "markdown",
   "id": "302f672c",
   "metadata": {},
   "source": [
    "#### checking structure of the split datasets"
   ]
  },
  {
   "cell_type": "code",
   "execution_count": 72,
   "id": "e2b02574",
   "metadata": {},
   "outputs": [
    {
     "name": "stdout",
     "output_type": "stream",
     "text": [
      "(430214, 16) (430214,)\n",
      "(107453, 16) (107453,)\n"
     ]
    }
   ],
   "source": [
    "print(x_train.shape, y_train.shape)\n",
    "print(x_test.shape,y_test.shape)"
   ]
  },
  {
   "cell_type": "code",
   "execution_count": 73,
   "id": "b1f026ae",
   "metadata": {},
   "outputs": [
    {
     "data": {
      "text/html": [
       "<div>\n",
       "<style scoped>\n",
       "    .dataframe tbody tr th:only-of-type {\n",
       "        vertical-align: middle;\n",
       "    }\n",
       "\n",
       "    .dataframe tbody tr th {\n",
       "        vertical-align: top;\n",
       "    }\n",
       "\n",
       "    .dataframe thead th {\n",
       "        text-align: right;\n",
       "    }\n",
       "</style>\n",
       "<table border=\"1\" class=\"dataframe\">\n",
       "  <thead>\n",
       "    <tr style=\"text-align: right;\">\n",
       "      <th></th>\n",
       "      <th>MONTHS_BALANCE</th>\n",
       "      <th>CODE_GENDER</th>\n",
       "      <th>FLAG_OWN_CAR</th>\n",
       "      <th>FLAG_OWN_REALTY</th>\n",
       "      <th>CNT_CHILDREN</th>\n",
       "      <th>AMT_INCOME_TOTAL</th>\n",
       "      <th>NAME_INCOME_TYPE</th>\n",
       "      <th>NAME_EDUCATION_TYPE</th>\n",
       "      <th>IsMarried</th>\n",
       "      <th>DAYS_BIRTH</th>\n",
       "      <th>DAYS_EMPLOYED</th>\n",
       "      <th>FLAG_MOBIL</th>\n",
       "      <th>FLAG_WORK_PHONE</th>\n",
       "      <th>FLAG_PHONE</th>\n",
       "      <th>FLAG_EMAIL</th>\n",
       "      <th>CNT_FAM_MEMBERS</th>\n",
       "    </tr>\n",
       "  </thead>\n",
       "  <tbody>\n",
       "    <tr>\n",
       "      <th>99062</th>\n",
       "      <td>-51</td>\n",
       "      <td>0</td>\n",
       "      <td>0</td>\n",
       "      <td>1</td>\n",
       "      <td>0</td>\n",
       "      <td>247500.0</td>\n",
       "      <td>1</td>\n",
       "      <td>2</td>\n",
       "      <td>1</td>\n",
       "      <td>-16340</td>\n",
       "      <td>-8647</td>\n",
       "      <td>1</td>\n",
       "      <td>0</td>\n",
       "      <td>0</td>\n",
       "      <td>0</td>\n",
       "      <td>2.0</td>\n",
       "    </tr>\n",
       "    <tr>\n",
       "      <th>730461</th>\n",
       "      <td>-23</td>\n",
       "      <td>0</td>\n",
       "      <td>0</td>\n",
       "      <td>1</td>\n",
       "      <td>1</td>\n",
       "      <td>121500.0</td>\n",
       "      <td>1</td>\n",
       "      <td>4</td>\n",
       "      <td>1</td>\n",
       "      <td>-11981</td>\n",
       "      <td>-2965</td>\n",
       "      <td>1</td>\n",
       "      <td>1</td>\n",
       "      <td>0</td>\n",
       "      <td>0</td>\n",
       "      <td>3.0</td>\n",
       "    </tr>\n",
       "    <tr>\n",
       "      <th>527997</th>\n",
       "      <td>-25</td>\n",
       "      <td>0</td>\n",
       "      <td>0</td>\n",
       "      <td>1</td>\n",
       "      <td>1</td>\n",
       "      <td>90000.0</td>\n",
       "      <td>1</td>\n",
       "      <td>2</td>\n",
       "      <td>0</td>\n",
       "      <td>-12037</td>\n",
       "      <td>-2706</td>\n",
       "      <td>1</td>\n",
       "      <td>0</td>\n",
       "      <td>0</td>\n",
       "      <td>0</td>\n",
       "      <td>2.0</td>\n",
       "    </tr>\n",
       "    <tr>\n",
       "      <th>18953</th>\n",
       "      <td>-7</td>\n",
       "      <td>1</td>\n",
       "      <td>1</td>\n",
       "      <td>1</td>\n",
       "      <td>0</td>\n",
       "      <td>360000.0</td>\n",
       "      <td>1</td>\n",
       "      <td>4</td>\n",
       "      <td>1</td>\n",
       "      <td>-19958</td>\n",
       "      <td>-7465</td>\n",
       "      <td>1</td>\n",
       "      <td>0</td>\n",
       "      <td>0</td>\n",
       "      <td>0</td>\n",
       "      <td>2.0</td>\n",
       "    </tr>\n",
       "    <tr>\n",
       "      <th>423587</th>\n",
       "      <td>-2</td>\n",
       "      <td>0</td>\n",
       "      <td>1</td>\n",
       "      <td>0</td>\n",
       "      <td>0</td>\n",
       "      <td>180000.0</td>\n",
       "      <td>1</td>\n",
       "      <td>2</td>\n",
       "      <td>1</td>\n",
       "      <td>-18341</td>\n",
       "      <td>-5574</td>\n",
       "      <td>1</td>\n",
       "      <td>1</td>\n",
       "      <td>1</td>\n",
       "      <td>0</td>\n",
       "      <td>2.0</td>\n",
       "    </tr>\n",
       "  </tbody>\n",
       "</table>\n",
       "</div>"
      ],
      "text/plain": [
       "        MONTHS_BALANCE  CODE_GENDER  FLAG_OWN_CAR  FLAG_OWN_REALTY  \\\n",
       "99062              -51            0             0                1   \n",
       "730461             -23            0             0                1   \n",
       "527997             -25            0             0                1   \n",
       "18953               -7            1             1                1   \n",
       "423587              -2            0             1                0   \n",
       "\n",
       "        CNT_CHILDREN  AMT_INCOME_TOTAL  NAME_INCOME_TYPE  NAME_EDUCATION_TYPE  \\\n",
       "99062              0          247500.0                 1                    2   \n",
       "730461             1          121500.0                 1                    4   \n",
       "527997             1           90000.0                 1                    2   \n",
       "18953              0          360000.0                 1                    4   \n",
       "423587             0          180000.0                 1                    2   \n",
       "\n",
       "        IsMarried  DAYS_BIRTH  DAYS_EMPLOYED  FLAG_MOBIL  FLAG_WORK_PHONE  \\\n",
       "99062           1      -16340          -8647           1                0   \n",
       "730461          1      -11981          -2965           1                1   \n",
       "527997          0      -12037          -2706           1                0   \n",
       "18953           1      -19958          -7465           1                0   \n",
       "423587          1      -18341          -5574           1                1   \n",
       "\n",
       "        FLAG_PHONE  FLAG_EMAIL  CNT_FAM_MEMBERS  \n",
       "99062            0           0              2.0  \n",
       "730461           0           0              3.0  \n",
       "527997           0           0              2.0  \n",
       "18953            0           0              2.0  \n",
       "423587           1           0              2.0  "
      ]
     },
     "execution_count": 73,
     "metadata": {},
     "output_type": "execute_result"
    }
   ],
   "source": [
    "x_test.head()"
   ]
  },
  {
   "cell_type": "markdown",
   "id": "e5391200",
   "metadata": {},
   "source": [
    "# Feature Selection"
   ]
  },
  {
   "cell_type": "code",
   "execution_count": 74,
   "id": "cab9b8eb",
   "metadata": {},
   "outputs": [],
   "source": [
    "variance_filter = VarianceThreshold()\n",
    "variance_filter.fit(x_train)\n",
    "feature_high_var = variance_filter.get_support(indices=True)\n",
    "x_train = x_train.iloc[:, feature_high_var]\n",
    "\n",
    "'''\n",
    "x_train is updated to only include the columns (features) that have a variance above the threshold set by \n",
    "VarianceThreshold. This feature selection step helps remove low-variance features, reducing the dimensionality of\n",
    "the dataset and potentially improving the performance of our machine learning models by focusing on more \n",
    "informative features.\n",
    "'''"
   ]
  },
  {
   "cell_type": "code",
   "execution_count": 80,
   "id": "12983f92",
   "metadata": {
    "scrolled": false
   },
   "outputs": [
    {
     "name": "stdout",
     "output_type": "stream",
     "text": [
      "The best features are:  ['MONTHS_BALANCE', 'CNT_CHILDREN', 'AMT_INCOME_TOTAL', 'NAME_INCOME_TYPE', 'NAME_EDUCATION_TYPE', 'IsMarried', 'DAYS_BIRTH', 'DAYS_EMPLOYED', 'FLAG_WORK_PHONE', 'FLAG_EMAIL']\n"
     ]
    }
   ],
   "source": [
    "selector = SelectKBest(score_func=f_classif, k=10)\n",
    "\n",
    "X_new = selector.fit_transform(x_train, y_train)\n",
    "\n",
    "mask = selector.get_support()\n",
    "\n",
    "new_features = []\n",
    "\n",
    "for bool, feature in zip(mask, x_train.columns):\n",
    "    if bool:\n",
    "        new_features.append(feature)\n",
    "        \n",
    "print('The best features are: ', new_features)\n",
    "\n",
    "'''\n",
    "The code above determines the 10 best features selected by the SelectKBest method from our dataset. The selected \n",
    "feature names are also printed for reference. This feature selection step helps further reduce the dimensionality \n",
    "of the data by focusing on the most informative features according to the f_classif score function.\n",
    "\n",
    "SelectKBest operates on the principle of evaluating the relationship between each feature and the target variable \n",
    "independently, without considering the interactions between features.\n",
    "\n",
    "'''"
   ]
  },
  {
   "cell_type": "code",
   "execution_count": 81,
   "id": "15b0b36e",
   "metadata": {},
   "outputs": [],
   "source": [
    "# set x_train and x_test so that they only contain columns usefull for our prediction\n",
    "cols= new_features\n",
    "x_train = x_train[cols]\n",
    "x_test = x_test[cols]"
   ]
  },
  {
   "cell_type": "markdown",
   "id": "2c914219",
   "metadata": {},
   "source": [
    "# 1. Decision Tree"
   ]
  },
  {
   "cell_type": "code",
   "execution_count": 12,
   "id": "2e9cceac",
   "metadata": {},
   "outputs": [
    {
     "name": "stdout",
     "output_type": "stream",
     "text": [
      "Accuracy: 0.683006\n"
     ]
    }
   ],
   "source": [
    "'''\n",
    "We train a decision tree classifier model on the training data, make predictions on the test data, and \n",
    "calculate the accuracy of the predictions.\n",
    "\n",
    "Decision trees are a good choice for credit card approval prediction due to their interpretability, ability to \n",
    "handle nonlinear relationships and mixed data types, capturing of interaction effects, and scalability. \n",
    "They are computationally efficient and can handle large datasets, however, not the best if we have high \n",
    "dimensionality in our datset\n",
    "'''\n",
    "\n",
    "model = DecisionTreeClassifier()\n",
    "\n",
    "model.fit(x_train,y_train)\n",
    "y_pred = model.predict(x_test)\n",
    "\n",
    "score_pred = accuracy_score(y_test, y_pred)\n",
    "print('Accuracy: %f' % score_pred)"
   ]
  },
  {
   "cell_type": "markdown",
   "id": "7dc85d01",
   "metadata": {},
   "source": [
    "###### Confusion Matrix to show accuracy and errors"
   ]
  },
  {
   "cell_type": "code",
   "execution_count": 13,
   "id": "9187e911",
   "metadata": {},
   "outputs": [
    {
     "data": {
      "image/png": "[encoded data removed]",
      "text/plain": [
       "<Figure size 640x480 with 2 Axes>"
      ]
     },
     "metadata": {},
     "output_type": "display_data"
    }
   ],
   "source": [
    "cm = confusion_matrix(y_test, y_pred, normalize='true')\n",
    "labels = unique_labels(y_test)\n",
    "cm_display = ConfusionMatrixDisplay(confusion_matrix=cm, display_labels=labels)\n",
    "fig, ax = plt.subplots()\n",
    "cm_display.plot(ax=ax)\n",
    "\n",
    "y_positions = [-.2, -.2, .8, .8]\n",
    "x_positions = [0, 1, 0, 1]\n",
    "\n",
    "\n",
    "texts = ['True Negative', 'False Positive', 'False Negative', 'True Positive']\n",
    "\n",
    "for x, y, text in zip(x_positions, y_positions, texts):\n",
    "    ax.text(x, y, text, va='center', ha='center', color='black', fontsize=10)\n",
    "    \n",
    "plt.title(f\"Accuracy score: {score_pred.round(4)}\", size = 15)\n",
    "plt.show()"
   ]
  },
  {
   "cell_type": "markdown",
   "id": "7234ac5b",
   "metadata": {},
   "source": [
    "# 2. Logistic Regression"
   ]
  },
  {
   "cell_type": "code",
   "execution_count": 14,
   "id": "fc6543bd",
   "metadata": {},
   "outputs": [
    {
     "name": "stdout",
     "output_type": "stream",
     "text": [
      "Accuracy: 0.613943\n"
     ]
    }
   ],
   "source": [
    "'''\n",
    "We train a Logistic Regression model on the training data, make predictions on the test data, and \n",
    "calculate the accuracy of the predictions.\n",
    "\n",
    "Logistic regression is a good choice for credit card approval prediction due to its ability to handle binary \n",
    "classification problems, and large datasets. Logistic regression provides a probabilistic framework that allows \n",
    "for the interpretation of feature coefficients, enabling us to understand the impact of different factors on \n",
    "credit card approval. It is well-suited for binary classification tasks, where the goal is to predict whether a \n",
    "credit card application will be approved or not. However, it has its limitations as it does not take into account \n",
    "non linear relationships between features and is sensitive to outliers. \n",
    "'''\n",
    "\n",
    "LR = LogisticRegression()\n",
    "\n",
    "LR.fit(x_train,y_train)\n",
    "y_pred = LR.predict(x_test)\n",
    "\n",
    "score_pred = accuracy_score(y_test, y_pred)\n",
    "print('Accuracy: %f' % score_pred)"
   ]
  },
  {
   "cell_type": "markdown",
   "id": "916c14e3",
   "metadata": {},
   "source": [
    "###### Confusion Matrix to show accuracy and errors"
   ]
  },
  {
   "cell_type": "code",
   "execution_count": 15,
   "id": "34a408c0",
   "metadata": {},
   "outputs": [
    {
     "data": {
      "image/png": "[encoded data removed]",
      "text/plain": [
       "<Figure size 640x480 with 2 Axes>"
      ]
     },
     "metadata": {},
     "output_type": "display_data"
    }
   ],
   "source": [
    "cm = confusion_matrix(y_test, y_pred, normalize='true')\n",
    "labels = unique_labels(y_test)\n",
    "cm_display = ConfusionMatrixDisplay(confusion_matrix=cm, display_labels=labels)\n",
    "fig, ax = plt.subplots()\n",
    "cm_display.plot(ax=ax)\n",
    "\n",
    "y_positions = [-.2, -.2, .8, .8]\n",
    "x_positions = [0, 1, 0, 1]\n",
    "\n",
    "\n",
    "texts = ['True Negative', 'False Positive', 'False Negative', 'True Positive']\n",
    "\n",
    "for x, y, text in zip(x_positions, y_positions, texts):\n",
    "    ax.text(x, y, text, va='center', ha='center', color='black', fontsize=10)\n",
    "    \n",
    "plt.title(f\"Accuracy score: {score_pred.round(4)}\", size = 15)\n",
    "plt.show()"
   ]
  },
  {
   "cell_type": "markdown",
   "id": "28d16931",
   "metadata": {},
   "source": [
    "# 3. Random Forest"
   ]
  },
  {
   "cell_type": "code",
   "execution_count": 16,
   "id": "de05ab84",
   "metadata": {},
   "outputs": [
    {
     "name": "stdout",
     "output_type": "stream",
     "text": [
      "Accuracy: 0.708738\n"
     ]
    }
   ],
   "source": [
    "'''\n",
    "We train a Random Forest model on the training data, make predictions on the test data, and \n",
    "calculate the accuracy of the predictions.\n",
    "\n",
    "\n",
    "Random Forest is a good choice for credit card approval prediction due to its ability to handle complex \n",
    "relationships, and provide robust predictions. Random Forest also performs well with imbalanced data by balancing \n",
    "class weights. It provides reliable predictions and reduces the risk of overfitting. However, Random Forest models \n",
    "can be computationally expensive and have longer training times compared to simpler models. Need hyperparameters \n",
    "tuned to get accurate result and are generally more effective when dealing with lower-dimensional data.\n",
    "'''\n",
    "\n",
    "forest = RandomForestClassifier()\n",
    "\n",
    "forest.fit(x_train, y_train)\n",
    "y_pred = forest.predict(x_test)\n",
    "\n",
    "score_pred = accuracy_score(y_test, y_pred)\n",
    "print('Accuracy: %f' % score_pred)"
   ]
  },
  {
   "cell_type": "markdown",
   "id": "cd071842",
   "metadata": {},
   "source": [
    "###### Confusion Matrix to show accuracy and errors"
   ]
  },
  {
   "cell_type": "code",
   "execution_count": 17,
   "id": "ec1ecf81",
   "metadata": {},
   "outputs": [
    {
     "data": {
      "image/png": "[encoded data removed]",
      "text/plain": [
       "<Figure size 640x480 with 2 Axes>"
      ]
     },
     "metadata": {},
     "output_type": "display_data"
    }
   ],
   "source": [
    "cm = confusion_matrix(y_test, y_pred, normalize='true')\n",
    "labels = unique_labels(y_test)\n",
    "cm_display = ConfusionMatrixDisplay(confusion_matrix=cm, display_labels=labels)\n",
    "fig, ax = plt.subplots()\n",
    "cm_display.plot(ax=ax)\n",
    "\n",
    "y_positions = [-.2, -.2, .8, .8]\n",
    "x_positions = [0, 1, 0, 1]\n",
    "\n",
    "texts = ['True Negative', 'False Positive', 'False Negative', 'True Positive']\n",
    "\n",
    "for x, y, text in zip(x_positions, y_positions, texts):\n",
    "    ax.text(x, y, text, va='center', ha='center', color='black', fontsize=10)\n",
    "    \n",
    "plt.title(f\"Accuracy score: {score_pred.round(4)}\", size = 15)\n",
    "plt.show()"
   ]
  },
  {
   "cell_type": "markdown",
   "id": "57be6770",
   "metadata": {},
   "source": [
    "# 4. Gaussian Naive Bayes"
   ]
  },
  {
   "cell_type": "code",
   "execution_count": 18,
   "id": "97c7abac",
   "metadata": {},
   "outputs": [
    {
     "name": "stdout",
     "output_type": "stream",
     "text": [
      "Accuracy: 0.625334\n"
     ]
    }
   ],
   "source": [
    "'''\n",
    "We train a Gaussian Naive Bayes model on the training data, make predictions on the test data, and \n",
    "calculate the accuracy of the predictions.\n",
    "\n",
    "Gaussian Naive Bayes is a good choice for credit card approval prediction due to its simplicity, efficiency, and \n",
    "ability to handle continuous and normally distributed features. However, it assumes independence between features,\n",
    "which may not hold in real-world scenarios. Additionally, it may not capture complex relationships between \n",
    "features or handle interactions effectively\n",
    "'''\n",
    "\n",
    "nb_classifier = GaussianNB()\n",
    "\n",
    "nb_classifier.fit(x_train, y_train)\n",
    "y_pred = nb_classifier.predict(x_test)\n",
    "\n",
    "score_pred = accuracy_score(y_test, y_pred)\n",
    "print('Accuracy: %f' % score_pred)"
   ]
  },
  {
   "cell_type": "markdown",
   "id": "43146a10",
   "metadata": {},
   "source": [
    "###### Confusion Matrix to show accuracy and errors"
   ]
  },
  {
   "cell_type": "code",
   "execution_count": 19,
   "id": "454792b8",
   "metadata": {},
   "outputs": [
    {
     "data": {
      "image/png": "[encoded data removed]",
      "text/plain": [
       "<Figure size 640x480 with 2 Axes>"
      ]
     },
     "metadata": {},
     "output_type": "display_data"
    }
   ],
   "source": [
    "cm = confusion_matrix(y_test, y_pred, normalize='true')\n",
    "labels = unique_labels(y_test)\n",
    "cm_display = ConfusionMatrixDisplay(confusion_matrix=cm, display_labels=labels)\n",
    "fig, ax = plt.subplots()\n",
    "cm_display.plot(ax=ax)\n",
    "\n",
    "y_positions = [-.2, -.2, .8, .8]\n",
    "x_positions = [0, 1, 0, 1]\n",
    "\n",
    "texts = ['True Negative', 'False Positive', 'False Negative', 'True Positive']\n",
    "\n",
    "for x, y, text in zip(x_positions, y_positions, texts):\n",
    "    ax.text(x, y, text, va='center', ha='center', color='black', fontsize=10)\n",
    "    \n",
    "plt.title(f\"Accuracy score: {score_pred.round(4)}\", size = 15)\n",
    "plt.show()"
   ]
  },
  {
   "cell_type": "markdown",
   "id": "d85ab632",
   "metadata": {},
   "source": [
    "# 5. XG Boost"
   ]
  },
  {
   "cell_type": "code",
   "execution_count": 20,
   "id": "49051559",
   "metadata": {},
   "outputs": [
    {
     "name": "stdout",
     "output_type": "stream",
     "text": [
      "Accuracy: 0.701423\n"
     ]
    }
   ],
   "source": [
    "'''\n",
    "We train a XG Boost model on the training data, make predictions on the test data, and \n",
    "calculate the accuracy of the predictions.\n",
    "\n",
    "XGBoost (Extreme Gradient Boosting) is a powerful algorithm for credit card approval prediction due to its ability\n",
    "to handle complex relationships, handle imbalanced data, and provide high predictive accuracy. XGBoost employs an \n",
    "ensemble of decision trees and incorporates gradient boosting techniques, allowing it to capture nonlinear \n",
    "interactions, feature importance, and handle large feature spaces. However, XGBoost can be computationally \n",
    "intensive and requires careful tuning of hyperparameters to achieve optimal performance. \n",
    "'''\n",
    "\n",
    "xgb_model = xgb.XGBClassifier()\n",
    "\n",
    "xgb_model.fit(x_train, y_train)\n",
    "y_pred = xgb_model.predict(x_test)\n",
    "\n",
    "score_pred = accuracy_score(y_test, y_pred)\n",
    "print('Accuracy: %f' % score_pred)"
   ]
  },
  {
   "cell_type": "markdown",
   "id": "e0864fff",
   "metadata": {},
   "source": [
    "###### Confusion Matrix to show accuracy and errors"
   ]
  },
  {
   "cell_type": "code",
   "execution_count": 21,
   "id": "cdc64721",
   "metadata": {},
   "outputs": [
    {
     "data": {
      "image/png": "[encoded data removed]",
      "text/plain": [
       "<Figure size 640x480 with 2 Axes>"
      ]
     },
     "metadata": {},
     "output_type": "display_data"
    }
   ],
   "source": [
    "cm = confusion_matrix(y_test, y_pred, normalize='true')\n",
    "labels = unique_labels(y_test)\n",
    "cm_display = ConfusionMatrixDisplay(confusion_matrix=cm, display_labels=labels)\n",
    "fig, ax = plt.subplots()\n",
    "cm_display.plot(ax=ax)\n",
    "\n",
    "y_positions = [-.2, -.2, .8, .8]\n",
    "x_positions = [0, 1, 0, 1]\n",
    "\n",
    "\n",
    "texts = ['True Negative', 'False Positive', 'False Negative', 'True Positive']\n",
    "\n",
    "for x, y, text in zip(x_positions, y_positions, texts):\n",
    "    ax.text(x, y, text, va='center', ha='center', color='black', fontsize=10)\n",
    "plt.title(f\"Accuracy score: {score_pred.round(4)}\", size = 15)\n",
    "plt.show()"
   ]
  },
  {
   "cell_type": "markdown",
   "id": "37b7b78a",
   "metadata": {},
   "source": [
    "# 6. K-Nearest Neighbors"
   ]
  },
  {
   "cell_type": "code",
   "execution_count": 22,
   "id": "0c1125fe",
   "metadata": {},
   "outputs": [],
   "source": [
    "# Normalize Data for KNN\n",
    "\n",
    "'''\n",
    "Normalizing the feature data using MinMaxScaler is necessary for KNN to ensure that all features contribute \n",
    "equally to the distance calculations, regardless of their original scales. \n",
    "Scaled values are now between 0 and 1\n",
    "\n",
    "\n",
    "'''\n",
    "scaler = MinMaxScaler()\n",
    "\n",
    "x_train_normalized = scaler.fit_transform(x_train)\n",
    "x_test_normalized = scaler.transform(x_test)"
   ]
  },
  {
   "cell_type": "code",
   "execution_count": 23,
   "id": "adecce8f",
   "metadata": {},
   "outputs": [
    {
     "name": "stdout",
     "output_type": "stream",
     "text": [
      "Accuracy: 0.713987\n"
     ]
    }
   ],
   "source": [
    "'''\n",
    "We train a KNN model on the training data, make predictions on the test data, and \n",
    "calculate the accuracy of the predictions.\n",
    "\n",
    "K-nearest neighbors (KNN) is a good choice for credit card approval prediction due to its simplicity, \n",
    "non-parametric nature, and ability to capture local patterns in the data. KNN makes predictions based on the \n",
    "similarity of a new data point to its nearest neighbors in the training set. However, KNN can be sensitive to the \n",
    "choice of distance metric and the number of neighbors (K), and it may not perform well with high-dimensional or \n",
    "sparse datasets. Additionally, the prediction process can be computationally expensive, especially with large \n",
    "training sets. \n",
    "'''\n",
    "\n",
    "knn = KNeighborsClassifier()\n",
    "\n",
    "knn.fit(x_train_normalized, y_train)\n",
    "y_pred = knn.predict(x_test_normalized)\n",
    "\n",
    "score_pred = accuracy_score(y_test, y_pred)\n",
    "print('Accuracy: %f' % score_pred)"
   ]
  },
  {
   "cell_type": "markdown",
   "id": "a74edc2f",
   "metadata": {},
   "source": [
    "###### Confusion Matrix to show accuracy and errors"
   ]
  },
  {
   "cell_type": "code",
   "execution_count": 24,
   "id": "bc5d8cbf",
   "metadata": {},
   "outputs": [
    {
     "data": {
      "image/png": "[encoded data removed]",
      "text/plain": [
       "<Figure size 640x480 with 2 Axes>"
      ]
     },
     "metadata": {},
     "output_type": "display_data"
    }
   ],
   "source": [
    "cm = confusion_matrix(y_test, y_pred, normalize='true')\n",
    "labels = unique_labels(y_test)\n",
    "cm_display = ConfusionMatrixDisplay(confusion_matrix=cm, display_labels=labels)\n",
    "fig, ax = plt.subplots()\n",
    "cm_display.plot(ax=ax)\n",
    "\n",
    "y_positions = [-.2, -.2, .8, .8]\n",
    "x_positions = [0, 1, 0, 1]\n",
    "\n",
    "texts = ['True Negative', 'False Positive', 'False Negative', 'True Positive']\n",
    "\n",
    "for x, y, text in zip(x_positions, y_positions, texts):\n",
    "    ax.text(x, y, text, va='center', ha='center', color='black', fontsize=10)\n",
    "    \n",
    "plt.title(f\"Accuracy score: {score_pred.round(4)}\", size = 15)\n",
    "plt.show()"
   ]
  },
  {
   "cell_type": "markdown",
   "id": "ee010f35",
   "metadata": {},
   "source": [
    "# 6 (a). KNN Hyperparameter Optimization"
   ]
  },
  {
   "cell_type": "code",
   "execution_count": 25,
   "id": "1aae2280",
   "metadata": {},
   "outputs": [
    {
     "name": "stdout",
     "output_type": "stream",
     "text": [
      "Best hyperparameters: {'metric': 'manhattan', 'n_neighbors': 9}\n",
      "Test set accuracy: 0.7405470298642197\n"
     ]
    }
   ],
   "source": [
    "'''\n",
    "We perform a grid search to find the best hyperparameters for a KNN classifier using cross-validation. We then \n",
    "trains a new KNN classifier with the best hyperparameters, make predictions on the test set, and calculate the \n",
    "accuracy of the predictions.\n",
    "\n",
    "What is Manhattan Distance?\n",
    "The metric determines how the distance is computed in KNN. In the case of \"Manhattan\" distance, the distance \n",
    "between two points is calculated as the sum of the absolute differences between their corresponding feature values.\n",
    "It measures the total length of the sides of a right-angled triangle when moving from one point to another in a \n",
    "grid-like fashion.\n",
    "'''\n",
    "\n",
    "hyperparameters = {\n",
    "    'n_neighbors': [1, 3, 5, 7, 9],\n",
    "    'metric': ['euclidean', 'manhattan']\n",
    "}\n",
    "\n",
    "scoring = 'accuracy'\n",
    "\n",
    "param_grid = hyperparameters\n",
    "\n",
    "grid_search = GridSearchCV(KNeighborsClassifier(), param_grid, scoring=scoring)\n",
    "grid_search.fit(x_train_normalized, y_train)\n",
    "\n",
    "best_params = grid_search.best_params_\n",
    "\n",
    "knn = KNeighborsClassifier(**best_params)\n",
    "knn.fit(x_train_normalized, y_train)\n",
    "y_pred = knn.predict(x_test_normalized)\n",
    "accuracy = accuracy_score(y_test, y_pred)\n",
    "\n",
    "print(\"Best hyperparameters:\", best_params)\n",
    "print(\"Test set accuracy:\", accuracy)"
   ]
  },
  {
   "cell_type": "markdown",
   "id": "5ac13b7d",
   "metadata": {},
   "source": [
    "###### Confusion Matrix to show accuracy and errors"
   ]
  },
  {
   "cell_type": "code",
   "execution_count": 26,
   "id": "4eea1df2",
   "metadata": {},
   "outputs": [
    {
     "data": {
      "image/png": "[encoded data removed]",
      "text/plain": [
       "<Figure size 640x480 with 2 Axes>"
      ]
     },
     "metadata": {},
     "output_type": "display_data"
    }
   ],
   "source": [
    "cm = confusion_matrix(y_test, y_pred, normalize='true')\n",
    "labels = unique_labels(y_test)\n",
    "cm_display = ConfusionMatrixDisplay(confusion_matrix=cm, display_labels=labels)\n",
    "fig, ax = plt.subplots()\n",
    "cm_display.plot(ax=ax)\n",
    "\n",
    "y_positions = [-.2, -.2, .8, .8]\n",
    "x_positions = [0, 1, 0, 1]\n",
    "\n",
    "texts = ['True Negative', 'False Positive', 'False Negative', 'True Positive']\n",
    "\n",
    "for x, y, text in zip(x_positions, y_positions, texts):\n",
    "    ax.text(x, y, text, va='center', ha='center', color='black', fontsize=10)\n",
    "    \n",
    "plt.title(f\"Accuracy score: {accuracy.round(4)}\", size = 15)\n",
    "plt.show()"
   ]
  },
  {
   "cell_type": "markdown",
   "id": "8c1c2465",
   "metadata": {},
   "source": [
    "The best model we arrived on for classification was a KNN model using Manhattan distance and 9\n",
    "neighbors. It resulted in an accuracy of approximately 0.741"
   ]
  }
 ],
 "metadata": {
  "kernelspec": {
   "display_name": "Python 3 (ipykernel)",
   "language": "python",
   "name": "python3"
  },
  "language_info": {
   "codemirror_mode": {
    "name": "ipython",
    "version": 3
   },
   "file_extension": ".py",
   "mimetype": "text/x-python",
   "name": "python",
   "nbconvert_exporter": "python",
   "pygments_lexer": "ipython3",
   "version": "3.9.13"
  }
 },
 "nbformat": 4,
 "nbformat_minor": 5
}
